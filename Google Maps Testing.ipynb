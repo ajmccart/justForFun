{
 "cells": [
  {
   "cell_type": "markdown",
   "metadata": {},
   "source": [
    "### GOOGLE MAPS LOCATION DATA ###\n",
    "uses the Google Maps Geocoding API to find information about a given input in 'address'\n",
    "\n",
    "api manager:\n",
    "https://console.developers.google.com/apis\n",
    "api documentation: https://developers.google.com/maps/documentation/geocoding/start?hl=en_US\n",
    "\n",
    "\n",
    "NOAA API:\n",
    "https://www.ncdc.noaa.gov/cdo-web/webservices/v2#locations"
   ]
  },
  {
   "cell_type": "code",
   "execution_count": 1,
   "metadata": {},
   "outputs": [],
   "source": [
    "import urllib\n",
    "import requests"
   ]
  },
  {
   "cell_type": "code",
   "execution_count": 6,
   "metadata": {},
   "outputs": [
    {
     "data": {
      "text/plain": [
       "{'results': [{'address_components': [{'long_name': '44107',\n",
       "     'short_name': '44107',\n",
       "     'types': ['postal_code']},\n",
       "    {'long_name': 'Lakewood',\n",
       "     'short_name': 'Lakewood',\n",
       "     'types': ['locality', 'political']},\n",
       "    {'long_name': 'Cuyahoga County',\n",
       "     'short_name': 'Cuyahoga County',\n",
       "     'types': ['administrative_area_level_2', 'political']},\n",
       "    {'long_name': 'Ohio',\n",
       "     'short_name': 'OH',\n",
       "     'types': ['administrative_area_level_1', 'political']},\n",
       "    {'long_name': 'United States',\n",
       "     'short_name': 'US',\n",
       "     'types': ['country', 'political']}],\n",
       "   'formatted_address': 'Lakewood, OH 44107, USA',\n",
       "   'geometry': {'bounds': {'northeast': {'lat': 41.50004810000001,\n",
       "      'lng': -81.7682031},\n",
       "     'southwest': {'lat': 41.467059, 'lng': -81.84398209999999}},\n",
       "    'location': {'lat': 41.4836446, 'lng': -81.806039},\n",
       "    'location_type': 'APPROXIMATE',\n",
       "    'viewport': {'northeast': {'lat': 41.50004810000001, 'lng': -81.7682031},\n",
       "     'southwest': {'lat': 41.467059, 'lng': -81.84398209999999}}},\n",
       "   'place_id': 'ChIJ7wVatmzyMIgRulvdnB0zj58',\n",
       "   'postcode_localities': ['Cleveland', 'Lakewood'],\n",
       "   'types': ['postal_code']}],\n",
       " 'status': 'OK'}"
      ]
     },
     "execution_count": 6,
     "metadata": {},
     "output_type": "execute_result"
    }
   ],
   "source": [
    "maps_api = 'https://maps.googleapis.com/maps/api/geocode/json?'\n",
    "api_key = open('../ggAPIkey.txt', 'r').read()\n",
    "address = '44107'\n",
    "url = maps_api + urllib.parse.urlencode({'address':address,'key':api_key })\n",
    "json_data = requests.get(url).json()\n",
    "json_data"
   ]
  },
  {
   "cell_type": "code",
   "execution_count": null,
   "metadata": {},
   "outputs": [],
   "source": []
  }
 ],
 "metadata": {
  "kernelspec": {
   "display_name": "Python 3",
   "language": "python",
   "name": "python3"
  },
  "language_info": {
   "codemirror_mode": {
    "name": "ipython",
    "version": 3
   },
   "file_extension": ".py",
   "mimetype": "text/x-python",
   "name": "python",
   "nbconvert_exporter": "python",
   "pygments_lexer": "ipython3",
   "version": "3.6.4"
  }
 },
 "nbformat": 4,
 "nbformat_minor": 2
}
